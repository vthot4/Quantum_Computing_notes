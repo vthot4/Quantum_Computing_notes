{
 "cells": [
  {
   "cell_type": "markdown",
   "id": "b8e02ffe",
   "metadata": {},
   "source": [
    "# Complex Arithmetic."
   ]
  }
 ],
 "metadata": {
  "language_info": {
   "name": "python"
  }
 },
 "nbformat": 4,
 "nbformat_minor": 5
}
