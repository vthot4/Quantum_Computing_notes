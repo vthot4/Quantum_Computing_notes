{
 "cells": [
  {
   "cell_type": "markdown",
   "id": "681d116c",
   "metadata": {},
   "source": [
    "# Linear Algebra"
   ]
  }
 ],
 "metadata": {
  "language_info": {
   "name": "python"
  }
 },
 "nbformat": 4,
 "nbformat_minor": 5
}
