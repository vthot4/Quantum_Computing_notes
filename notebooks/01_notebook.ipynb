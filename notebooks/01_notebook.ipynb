{
 "cells": [
  {
   "cell_type": "markdown",
   "metadata": {},
   "source": [
    "# Basic of quibits, gates, and circuits.\n",
    "A qubit is the fundamental unit of quantum information. In quantum computing, logical operations are designed to act on qubits, treating them as idealized, perfectly isolated quantum systems—often referred to as pure or closed states. However, in real-world quantum hardware, qubits are susceptible to imperfections caused by environmental noise and other disturbances. To address these challenges, quantum error correction and mitigation techniques are employed separately. This distinction ensures that the core principles of quantum computing remain universal and independent of specific hardware constraints.\n",
    "\n",
    "## Representing a logical qubit\n",
    "The state of an ideal qubit can be represented as a 2-dimensional unit vector and visualized as a point on the *Bloch sphere (see the red dot below). Any point on this sphere represents a linear combination of the 0 and 1 states with complex coefficients. A π/2-pulse 'rotates' a qubit from the 0-state to a superposition state.\n",
    "\n",
    "[The Bloch Sphere](notebooks/images/The-Bloch-sphere.png)"
   ]
  }
 ],
 "metadata": {
  "language_info": {
   "name": "python"
  }
 },
 "nbformat": 4,
 "nbformat_minor": 2
}
