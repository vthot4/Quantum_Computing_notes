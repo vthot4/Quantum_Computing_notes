{
 "cells": [
  {
   "cell_type": "markdown",
   "id": "2ca09c99-12f3-4eb5-80cb-9804219bc6ee",
   "metadata": {},
   "source": [
    "# Basics of quibits, gates, and circuits."
   ]
  },
  {
   "cell_type": "markdown",
   "id": "f40f9744-595c-40aa-81d6-18ef815a12f3",
   "metadata": {},
   "source": [
    "A qubit is the fundamental unit of quantum information. In quantum computing, logical operations are designed to act on qubits, treating them as idealized, perfectly isolated quantum systems—often referred to as pure or closed states. However, in real-world quantum hardware, qubits are susceptible to imperfections caused by environmental noise and other disturbances. To address these challenges, quantum error correction and mitigation techniques are employed separately. This distinction ensures that the core principles of quantum computing remain universal and independent of specific hardware constraints."
   ]
  },
  {
   "cell_type": "markdown",
   "id": "bda461d5-7cb1-491a-8bb5-5a0016d2d246",
   "metadata": {},
   "source": [
    "## Representing a logical qubit\n",
    "The state of an ideal qubit can be represented as a 2-dimensional unit vector and visualized as a point on the *Bloch **sphere** (see the red dot below). Any point on this sphere represents a linear combination of the 0 and 1 states with complex coefficients. A π/2-pulse 'rotates' a qubit from the 0-state to a superposition state. "
   ]
  },
  {
   "cell_type": "code",
   "execution_count": null,
   "id": "8d3325e9-dc63-4a52-91bf-87b178d6335a",
   "metadata": {},
   "outputs": [],
   "source": []
  }
 ],
 "metadata": {
  "kernelspec": {
   "display_name": "Python 3 (ipykernel)",
   "language": "python",
   "name": "python3"
  },
  "language_info": {
   "codemirror_mode": {
    "name": "ipython",
    "version": 3
   },
   "file_extension": ".py",
   "mimetype": "text/x-python",
   "name": "python",
   "nbconvert_exporter": "python",
   "pygments_lexer": "ipython3",
   "version": "3.12.3"
  },
  "scenes_data": {
   "active_scene": "Default Scene",
   "init_scene": "",
   "scenes": [
    "Default Scene"
   ]
  }
 },
 "nbformat": 4,
 "nbformat_minor": 5
}
