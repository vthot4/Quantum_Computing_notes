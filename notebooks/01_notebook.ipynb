{
 "cells": [
  {
   "cell_type": "markdown",
   "id": "2ca09c99-12f3-4eb5-80cb-9804219bc6ee",
   "metadata": {},
   "source": [
    "# Basics of quibits, gates, and circuits."
   ]
  },
  {
   "cell_type": "markdown",
   "id": "f40f9744-595c-40aa-81d6-18ef815a12f3",
   "metadata": {},
   "source": [
    "A qubit is the fundamental unit of quantum information. In quantum computing, logical operations are designed to act on qubits, treating them as idealized, perfectly isolated quantum systems—often referred to as pure or closed states. However, in real-world quantum hardware, qubits are susceptible to imperfections caused by environmental noise and other disturbances. To address these challenges, quantum error correction and mitigation techniques are employed separately. This distinction ensures that the core principles of quantum computing remain universal and independent of specific hardware constraints."
   ]
  },
  {
   "cell_type": "markdown",
   "id": "bda461d5-7cb1-491a-8bb5-5a0016d2d246",
   "metadata": {},
   "source": [
    "## Representing a logical qubit\n",
    "The state of an ideal qubit can be represented as a 2-dimensional unit vector and visualized as a point on the *Bloch **sphere** (see the red dot below). Any point on this sphere represents a linear combination of the 0 and 1 states with complex coefficients. A π/2-pulse 'rotates' a qubit from the 0-state to a superposition state. "
   ]
  },
  {
   "cell_type": "markdown",
   "id": "a50d3b7c",
   "metadata": {},
   "source": [
    "![The Bloch Sphere][blochSphereImage]\n",
    "\n",
    "[blochSphereImage]: ./images/The-Bloch-sphere.png"
   ]
  },
  {
   "cell_type": "markdown",
   "id": "8e188d8a",
   "metadata": {},
   "source": [
    "A qubit’s state is mathematically represented as a superposition, meaning it exists in a linear combination of its two basis states, |0⟩ and |1⟩, until it is measured. This state is expressed as:\n",
    "\n",
    "\n",
    "\\[\n",
    "|\\psi\\rangle = a|0\\rangle + b|1\\rangle\n",
    "\\]\n",
    "\n",
    "\n",
    "where  a  and  b  are complex probability amplitudes that determine the likelihood of the qubit collapsing into either basis state upon measurement. The squared magnitudes of these amplitudes, \n",
    "$a^{2}$ and $b^{2}$, represent the probabilities of measuring the qubit in state |0⟩ or |1⟩, respectively, ensuring that $a^{2}$ + $b^{2}$ = 1.\n",
    "\n",
    "Measurement forces the qubit to ‘collapse’ into one of these definite states, losing its superposition. This fundamental property of quantum mechanics underlies quantum computation and differentiates qubits from classical bits, which can only exist in one state at a time.”"
   ]
  },
  {
   "cell_type": "markdown",
   "id": "304ceedb",
   "metadata": {},
   "source": [
    "## Quantum logic gates\n",
    "Quantum logic gates are fundamental operations that manipulate qubits by transforming their quantum states. Unlike classical logic gates, which operate on binary bits (0 and 1), quantum gates modify a qubit’s state by applying unitary transformations, effectively rotating them to different positions on the Bloch sphere—a geometric representation of qubit states.\n",
    "\n",
    "Single-qubit gates play a crucial role in quantum computation. Some key examples include:\n",
    "- **Pauli Gates (X, Y, Z)**: These represent 180-degree rotations around the X, Y, and Z axes of the Bloch sphere.\n",
    "  - The X gate (quantum NOT gate) flips |0⟩ to |1⟩ and vice versa.\n",
    "  - The Y gate introduces a phase shift while flipping the state.\n",
    "  - The Z gate applies a phase shift to |1⟩ while leaving |0⟩ unchanged.\n",
    " \n",
    "- **Hadamard Gate (H)**: This gate creates superposition by transforming the computational basis states |0⟩ and |1⟩ into equal superpositions of both:\n",
    "\n",
    "$H|0⟩ = \\frac{1}{\\sqrt{2}}(|0⟩ + |1⟩), \\quad H|1⟩ = \\frac{1}{\\sqrt{2}}(|0⟩ - |1⟩).$\n",
    "\n",
    "This allows quantum algorithms to leverage parallelism, a key advantage over classical computing.\n",
    "\n",
    "Beyond single-qubit operations, quantum circuits also utilize multi-qubit gates like the CNOT (Controlled-NOT) gate, which entangles qubits—a fundamental feature enabling quantum advantage. The collective application of these gates forms the basis of quantum algorithms, driving advancements in quantum computing."
   ]
  },
  {
   "cell_type": "markdown",
   "id": "7bfe40a6",
   "metadata": {},
   "source": [
    "## Quantum circuits\n",
    "n quantum computing, algorithms are implemented by combining quantum logic gates into structured quantum circuits. These circuits follow a fundamental three-stage process: encoding input data, executing computations, and extracting results through measurement.\n",
    "\n",
    "The first step, encoding the input, involves preparing the initial quantum state by applying specific gates that map classical information onto qubits. This stage is crucial because different problems require different ways of encoding data, ensuring that the quantum system begins in a state suited for computation. Once the input is set, the circuit proceeds to the execution phase, where a sequence of quantum gates manipulates the qubits according to the algorithm’s logic. Unlike classical computation, this process leverages the principles of superposition, entanglement, and quantum interference, allowing quantum circuits to explore multiple computational paths simultaneously.\n",
    "\n",
    "Finally, the measurement stage collapses the quantum state, converting the qubits into classical bits that can be read as output. Because quantum measurement is inherently probabilistic, multiple runs of the same circuit may be needed to obtain reliable results. While the gates responsible for encoding the input must change whenever a different dataset is used, the core computational operations remain the same for a given algorithm. This separation of input preparation from execution enhances the modularity and adaptability of quantum circuits, making them powerful tools for solving a wide range of computational problems."
   ]
  },
  {
   "cell_type": "markdown",
   "id": "12eb906c",
   "metadata": {},
   "source": [
    "## Simulate simple gates in Qiskit\n",
    "Let’s first create and draw a circuit with one qubit and one classical bit."
   ]
  },
  {
   "cell_type": "code",
   "execution_count": null,
   "id": "a0b65c71",
   "metadata": {},
   "outputs": [],
   "source": [
    "# Load qiskit functions into the local namespace\n",
    "from qiskit import *       \n",
    "\n",
    "# Creat a circuit qc with 1 qubit and 1 classical bit\n",
    "qc = QuantumCircuit(1,1)   \n",
    "\n",
    "# Draw the circuit ('mpl'asks to render using Matplotlib) \n",
    "qc.draw(output = 'mpl')   "
   ]
  }
 ],
 "metadata": {
  "kernelspec": {
   "display_name": "Python 3 (ipykernel)",
   "language": "python",
   "name": "python3"
  },
  "scenes_data": {
   "active_scene": "Default Scene",
   "init_scene": "",
   "scenes": [
    "Default Scene"
   ]
  }
 },
 "nbformat": 4,
 "nbformat_minor": 5
}
